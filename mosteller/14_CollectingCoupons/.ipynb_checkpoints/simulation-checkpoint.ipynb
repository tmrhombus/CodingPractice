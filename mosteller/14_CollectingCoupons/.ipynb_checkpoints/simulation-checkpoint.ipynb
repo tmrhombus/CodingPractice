{
 "cells": [
  {
   "cell_type": "code",
   "execution_count": 1,
   "id": "559df897",
   "metadata": {},
   "outputs": [],
   "source": [
    "import random\n",
    "import numpy as np"
   ]
  },
  {
   "cell_type": "code",
   "execution_count": 2,
   "id": "ccdfe7a6",
   "metadata": {},
   "outputs": [],
   "source": [
    "n_iterations = 1000000"
   ]
  },
  {
   "cell_type": "code",
   "execution_count": 3,
   "id": "f2bc0729",
   "metadata": {},
   "outputs": [],
   "source": [
    "def pick_coupon():\n",
    "    return random.randint(1,5)"
   ]
  },
  {
   "cell_type": "code",
   "execution_count": 4,
   "id": "753d0a05",
   "metadata": {},
   "outputs": [],
   "source": [
    "def run_experiment():\n",
    "    n_pulls = 0\n",
    "    set_coupons = set()\n",
    "    while True:\n",
    "        n_pulls += 1\n",
    "        this_pull = pick_coupon()\n",
    "        #print(this_pull)\n",
    "        set_coupons.add(this_pull)\n",
    "        if len(set_coupons)==5:\n",
    "            return n_pulls\n",
    "    \n",
    "    "
   ]
  },
  {
   "cell_type": "code",
   "execution_count": 5,
   "id": "94e3236b",
   "metadata": {},
   "outputs": [],
   "source": [
    "list_experiments = []\n",
    "\n",
    "for i in range(n_iterations):\n",
    "    list_experiments.append(run_experiment())"
   ]
  },
  {
   "cell_type": "code",
   "execution_count": 6,
   "id": "b762807e",
   "metadata": {},
   "outputs": [
    {
     "name": "stdout",
     "output_type": "stream",
     "text": [
      "11.426027\n",
      "11.416666666666668\n"
     ]
    }
   ],
   "source": [
    "print(np.mean(list_experiments))\n",
    "print(1 + 5/4 + 5/3 + 5/2 + 5)"
   ]
  }
 ],
 "metadata": {
  "kernelspec": {
   "display_name": "Python 3",
   "language": "python",
   "name": "python3"
  },
  "language_info": {
   "codemirror_mode": {
    "name": "ipython",
    "version": 3
   },
   "file_extension": ".py",
   "mimetype": "text/x-python",
   "name": "python",
   "nbconvert_exporter": "python",
   "pygments_lexer": "ipython3",
   "version": "3.6.13"
  }
 },
 "nbformat": 4,
 "nbformat_minor": 5
}
