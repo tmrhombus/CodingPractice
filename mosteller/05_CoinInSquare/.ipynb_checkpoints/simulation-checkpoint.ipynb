{
 "cells": [
  {
   "cell_type": "code",
   "execution_count": 1,
   "id": "04fea354",
   "metadata": {},
   "outputs": [],
   "source": [
    "import numpy as np"
   ]
  },
  {
   "cell_type": "code",
   "execution_count": 7,
   "id": "0e35659f",
   "metadata": {},
   "outputs": [],
   "source": [
    "n_iterations = 1000000\n",
    "w_square = 1\n",
    "r_coin   = 3/8"
   ]
  },
  {
   "cell_type": "code",
   "execution_count": 8,
   "id": "71d20424",
   "metadata": {},
   "outputs": [],
   "source": [
    "def toss_coin():\n",
    "    x = np.random.uniform(low=0, high=w_square)\n",
    "    y = np.random.uniform(low=0, high=w_square)\n",
    "    if (\n",
    "        ( x > r_coin) & \n",
    "        ( x < w_square - r_coin) & \n",
    "        ( y > r_coin) & \n",
    "        ( y < w_square - r_coin) \n",
    "    ):  \n",
    "        return True\n",
    "    else: return False"
   ]
  },
  {
   "cell_type": "code",
   "execution_count": 10,
   "id": "ecfb9661",
   "metadata": {},
   "outputs": [
    {
     "name": "stdout",
     "output_type": "stream",
     "text": [
      "After 1000000 tosses, we had 62782 wins\n",
      "Win rate is 0.062782\n",
      "Theoretical Rate: 0.0625\n"
     ]
    }
   ],
   "source": [
    "n_wins = 0\n",
    "for i in range(n_iterations):\n",
    "    n_wins += int(toss_coin())\n",
    "    \n",
    "print(f\"After {n_iterations} tosses, we had {n_wins} wins\")\n",
    "print(f\"Win rate is {n_wins/n_iterations}\")\n",
    "\n",
    "A_win = (w_square-2*r_coin)**2\n",
    "A_tot = w_square**2\n",
    "print(f\"Theoretical Rate: {A_win/A_tot}\")"
   ]
  },
  {
   "cell_type": "code",
   "execution_count": null,
   "id": "f1753bec",
   "metadata": {},
   "outputs": [],
   "source": []
  }
 ],
 "metadata": {
  "kernelspec": {
   "display_name": "Python 3",
   "language": "python",
   "name": "python3"
  },
  "language_info": {
   "codemirror_mode": {
    "name": "ipython",
    "version": 3
   },
   "file_extension": ".py",
   "mimetype": "text/x-python",
   "name": "python",
   "nbconvert_exporter": "python",
   "pygments_lexer": "ipython3",
   "version": "3.6.13"
  }
 },
 "nbformat": 4,
 "nbformat_minor": 5
}
