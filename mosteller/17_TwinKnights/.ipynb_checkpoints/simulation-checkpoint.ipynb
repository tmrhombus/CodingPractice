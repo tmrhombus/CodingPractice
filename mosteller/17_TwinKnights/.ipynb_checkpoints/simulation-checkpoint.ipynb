{
 "cells": [
  {
   "cell_type": "code",
   "execution_count": 1,
   "id": "f3e28ed7",
   "metadata": {},
   "outputs": [],
   "source": [
    "import numpy as np\n",
    "import random"
   ]
  },
  {
   "cell_type": "code",
   "execution_count": 2,
   "id": "57ead049",
   "metadata": {},
   "outputs": [],
   "source": [
    "n_iterations = 10"
   ]
  },
  {
   "cell_type": "code",
   "execution_count": 3,
   "id": "2429828d",
   "metadata": {},
   "outputs": [],
   "source": [
    "list_startingorder = [i for i in range(8)]"
   ]
  },
  {
   "cell_type": "code",
   "execution_count": 5,
   "id": "37798e86",
   "metadata": {},
   "outputs": [
    {
     "name": "stdout",
     "output_type": "stream",
     "text": [
      "[0, 1, 2, 3, 4, 5, 6, 7]\n"
     ]
    }
   ],
   "source": [
    "print(list_startingorder)"
   ]
  },
  {
   "cell_type": "code",
   "execution_count": 51,
   "id": "b4b87549",
   "metadata": {},
   "outputs": [
    {
     "name": "stdout",
     "output_type": "stream",
     "text": [
      "False\n"
     ]
    }
   ],
   "source": [
    "def pick_winner(l):\n",
    "    return random.choice(l)\n",
    "def check_brothers(l):\n",
    "    if set(l)==set([0,1]):\n",
    "        return True\n",
    "    else: return False"
   ]
  },
  {
   "cell_type": "code",
   "execution_count": 43,
   "id": "0810b9f7",
   "metadata": {},
   "outputs": [
    {
     "name": "stdout",
     "output_type": "stream",
     "text": [
      "0 0, 1\n",
      "2 2, 3\n",
      "4 4, 5\n",
      "6 6, 7\n",
      "[1, 2, 5, 6]\n"
     ]
    }
   ],
   "source": [
    "def play_round(l):\n",
    "    winners = []\n",
    "    for i in range(0, len(l), 2):\n",
    "        print(f\"{i} {l[i]}, {l[i+1]}\")\n",
    "        winners.append(pick_winner( [ l[i], l[i+1]] ) )\n",
    "    return winners\n",
    "print(play_round(list_startingorder))"
   ]
  },
  {
   "cell_type": "code",
   "execution_count": null,
   "id": "8f81ceb6",
   "metadata": {},
   "outputs": [],
   "source": []
  },
  {
   "cell_type": "code",
   "execution_count": null,
   "id": "d60742f4",
   "metadata": {},
   "outputs": [],
   "source": []
  },
  {
   "cell_type": "code",
   "execution_count": 19,
   "id": "d746adac",
   "metadata": {},
   "outputs": [
    {
     "name": "stdout",
     "output_type": "stream",
     "text": [
      "1\n"
     ]
    }
   ],
   "source": [
    "print(pick_winner(list_startingorder))"
   ]
  }
 ],
 "metadata": {
  "kernelspec": {
   "display_name": "Python 3",
   "language": "python",
   "name": "python3"
  },
  "language_info": {
   "codemirror_mode": {
    "name": "ipython",
    "version": 3
   },
   "file_extension": ".py",
   "mimetype": "text/x-python",
   "name": "python",
   "nbconvert_exporter": "python",
   "pygments_lexer": "ipython3",
   "version": "3.6.13"
  }
 },
 "nbformat": 4,
 "nbformat_minor": 5
}
