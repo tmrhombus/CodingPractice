{
 "cells": [
  {
   "cell_type": "code",
   "execution_count": 1,
   "id": "81750bd5",
   "metadata": {},
   "outputs": [],
   "source": [
    "import numpy as np\n",
    "import random"
   ]
  },
  {
   "cell_type": "code",
   "execution_count": 2,
   "id": "ee32fc01",
   "metadata": {},
   "outputs": [],
   "source": [
    "n_iterations = 1000000\n",
    "power = 5"
   ]
  },
  {
   "cell_type": "code",
   "execution_count": 3,
   "id": "31a69d10",
   "metadata": {},
   "outputs": [],
   "source": [
    "list_startingorder = [i for i in range(2**power)]"
   ]
  },
  {
   "cell_type": "code",
   "execution_count": 4,
   "id": "4ab6b647",
   "metadata": {},
   "outputs": [
    {
     "name": "stdout",
     "output_type": "stream",
     "text": [
      "[0, 1, 2, 3, 4, 5, 6, 7, 8, 9, 10, 11, 12, 13, 14, 15, 16, 17, 18, 19, 20, 21, 22, 23, 24, 25, 26, 27, 28, 29, 30, 31]\n"
     ]
    }
   ],
   "source": [
    "print(list_startingorder)"
   ]
  },
  {
   "cell_type": "code",
   "execution_count": 5,
   "id": "b26aa03f",
   "metadata": {},
   "outputs": [],
   "source": [
    "def pick_winner(l):\n",
    "    return random.choice(l)\n",
    "def check_brothers(l):\n",
    "    if set(l)==set([0,1]):\n",
    "        return True\n",
    "    else: return False"
   ]
  },
  {
   "cell_type": "code",
   "execution_count": 6,
   "id": "01213517",
   "metadata": {},
   "outputs": [],
   "source": [
    "def play_round(l):\n",
    "    brothers_played = False\n",
    "    winners = []\n",
    "    for i in range(0, len(l), 2):\n",
    "        ##print(f\" pairing {i}: {l[i]}, {l[i+1]}\")\n",
    "        brothers_played = check_brothers( [ l[i], l[i+1]] )\n",
    "        ##print(f\"  brothers played {brothers_played}\")\n",
    "        if brothers_played:\n",
    "            return brothers_played, winners\n",
    "        winners.append(pick_winner( [ l[i], l[i+1]] ) )\n",
    "    return brothers_played, winners\n",
    "#print(play_round(list_startingorder))"
   ]
  },
  {
   "cell_type": "code",
   "execution_count": 7,
   "id": "bc63cb8e",
   "metadata": {},
   "outputs": [],
   "source": [
    "def play_tournament(list_players):\n",
    "    i = 0\n",
    "    while len(list_players)>1:\n",
    "        ##print(f\"Round {i}: {list_players}\")\n",
    "        brothers_played, list_players = play_round(list_players)\n",
    "        if brothers_played: break\n",
    "        i+=1\n",
    "    return int(brothers_played)"
   ]
  },
  {
   "cell_type": "code",
   "execution_count": 8,
   "id": "fd770131",
   "metadata": {},
   "outputs": [
    {
     "name": "stdout",
     "output_type": "stream",
     "text": [
      "Brothers played each other 62400 times in 1000000 tournaments\n",
      "Probability: 0.0624\n",
      "Theoretical: 0.0625\n"
     ]
    }
   ],
   "source": [
    "n_success = 0\n",
    "for i in range(n_iterations):\n",
    "    random.shuffle(list_startingorder)\n",
    "    ##print(list_startingorder)\n",
    "    n_success += play_tournament(list_startingorder)\n",
    "    \n",
    "print(f\"Brothers played each other {n_success} times in {n_iterations} tournaments\")\n",
    "print(f\"Probability: {n_success/n_iterations}\")\n",
    "print(f\"Theoretical: {1/(2**(power-1))}\")"
   ]
  },
  {
   "cell_type": "code",
   "execution_count": null,
   "id": "6795e3f8",
   "metadata": {},
   "outputs": [],
   "source": []
  }
 ],
 "metadata": {
  "kernelspec": {
   "display_name": "Python 3",
   "language": "python",
   "name": "python3"
  },
  "language_info": {
   "codemirror_mode": {
    "name": "ipython",
    "version": 3
   },
   "file_extension": ".py",
   "mimetype": "text/x-python",
   "name": "python",
   "nbconvert_exporter": "python",
   "pygments_lexer": "ipython3",
   "version": "3.6.13"
  }
 },
 "nbformat": 4,
 "nbformat_minor": 5
}
