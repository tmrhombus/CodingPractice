{
 "cells": [
  {
   "cell_type": "code",
   "execution_count": 1,
   "id": "222fc881",
   "metadata": {},
   "outputs": [],
   "source": [
    "import numpy as np\n",
    "import random"
   ]
  },
  {
   "cell_type": "code",
   "execution_count": 2,
   "id": "0051a690",
   "metadata": {},
   "outputs": [],
   "source": [
    "n_iterations = 10"
   ]
  },
  {
   "cell_type": "code",
   "execution_count": 3,
   "id": "8c447cb9",
   "metadata": {},
   "outputs": [],
   "source": [
    "urn_a = [1,1,0]\n",
    "urn_b = [1]*101 + [0]*100"
   ]
  },
  {
   "cell_type": "code",
   "execution_count": 5,
   "id": "2461cbd1",
   "metadata": {},
   "outputs": [],
   "source": [
    "def pick_with_replacement(urn):\n",
    "    ball_1 = random.choice(urn)\n",
    "    ball_2 = random.choice(urn)\n",
    "    return ball_1, ball_2\n",
    "\n",
    "def pick_without_replacement(urn):\n",
    "    ball_1 = urn.pop(random.randrange(len(urn)))\n",
    "    ball_2 = random.choice(urn)\n",
    "    return ball_1, ball_2"
   ]
  },
  {
   "cell_type": "code",
   "execution_count": 27,
   "id": "f0da73b2",
   "metadata": {},
   "outputs": [
    {
     "name": "stdout",
     "output_type": "stream",
     "text": [
      "(3, 3)\n"
     ]
    }
   ],
   "source": [
    "print( pick_with_replacement([3]) )"
   ]
  }
 ],
 "metadata": {
  "kernelspec": {
   "display_name": "Python 3",
   "language": "python",
   "name": "python3"
  },
  "language_info": {
   "codemirror_mode": {
    "name": "ipython",
    "version": 3
   },
   "file_extension": ".py",
   "mimetype": "text/x-python",
   "name": "python",
   "nbconvert_exporter": "python",
   "pygments_lexer": "ipython3",
   "version": "3.6.13"
  }
 },
 "nbformat": 4,
 "nbformat_minor": 5
}
