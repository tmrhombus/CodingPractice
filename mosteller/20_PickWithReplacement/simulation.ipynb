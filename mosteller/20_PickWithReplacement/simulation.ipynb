{
 "cells": [
  {
   "cell_type": "code",
   "execution_count": 1,
   "id": "70e44457",
   "metadata": {},
   "outputs": [],
   "source": [
    "import numpy as np\n",
    "import random"
   ]
  },
  {
   "cell_type": "code",
   "execution_count": 2,
   "id": "f0588171",
   "metadata": {},
   "outputs": [],
   "source": [
    "n_iterations = 10000000"
   ]
  },
  {
   "cell_type": "code",
   "execution_count": 7,
   "id": "fcd7a9bb",
   "metadata": {},
   "outputs": [],
   "source": [
    "urn_a = [1,1,0]\n",
    "urn_b = [1]*1001 + [0]*1000\n",
    "\n",
    "dict_urns = {\"A\": urn_a, \"B\": urn_b}"
   ]
  },
  {
   "cell_type": "code",
   "execution_count": 8,
   "id": "e3eb7f71",
   "metadata": {},
   "outputs": [],
   "source": [
    "def pick_ball(urn):\n",
    "    return random.choice(urn)\n",
    "\n",
    "def pick_balls(urn):\n",
    "    index_1 = random.randrange(len(urn))\n",
    "    ball_1 = urn[index_1]\n",
    "    if ball_1 == 1:\n",
    "        index_2 = index_1\n",
    "        while index_2 == index_1:\n",
    "            index_2 = random.randrange(len(urn))\n",
    "        if index_1 == index_2: print(\"AAAA\")\n",
    "    else:\n",
    "        index_2 = random.randrange(len(urn))\n",
    "    ball_2 = urn[index_2]\n",
    "        \n",
    "    #print(f\"index_1: {index_1}, ({ball_1}), index_1: {index_2}, ({ball_2})\")\n",
    "    return ball_1, ball_2\n"
   ]
  },
  {
   "cell_type": "code",
   "execution_count": 9,
   "id": "ab99e8d3",
   "metadata": {},
   "outputs": [],
   "source": [
    "def run_a_test():\n",
    "    urn_name, urn = random.choice(list(dict_urns.items()))\n",
    "    #print(urn)\n",
    "    #print(urn_name)\n",
    "    ball_1, ball_2 = pick_balls(urn)\n",
    "    if (ball_1 == 0) and (ball_2 == 0):\n",
    "        guess = \"B\"\n",
    "    if (ball_1 == 0) and (ball_2 == 1):\n",
    "        guess = \"A\"\n",
    "    if (ball_1 == 1) and (ball_2 == 0):\n",
    "        guess = \"B\"\n",
    "    if (ball_1 == 1) and (ball_2 == 1):\n",
    "        guess = \"A\"\n",
    "\n",
    "    #print(urn_name, guess)\n",
    "    return int(urn_name == guess)"
   ]
  },
  {
   "cell_type": "code",
   "execution_count": 10,
   "id": "fe556a7c",
   "metadata": {},
   "outputs": [
    {
     "name": "stdout",
     "output_type": "stream",
     "text": [
      "After 10000000 iterations, we had 5272987 correct guesses\n",
      "Rate of correct guesses 0.5272987\n",
      "Theoretical 0.6388888888888888\n"
     ]
    }
   ],
   "source": [
    "n_correct = 0\n",
    "for i in range(n_iterations):\n",
    "    n_correct += run_a_test()\n",
    "    \n",
    "print(f\"After {n_iterations} iterations, we had {n_correct} correct guesses\")\n",
    "print(f\"Rate of correct guesses {n_correct/n_iterations}\")\n",
    "print(f\"Theoretical {23/36}\")"
   ]
  },
  {
   "cell_type": "code",
   "execution_count": null,
   "id": "2f87f6fd",
   "metadata": {},
   "outputs": [],
   "source": []
  }
 ],
 "metadata": {
  "kernelspec": {
   "display_name": "Python 3",
   "language": "python",
   "name": "python3"
  },
  "language_info": {
   "codemirror_mode": {
    "name": "ipython",
    "version": 3
   },
   "file_extension": ".py",
   "mimetype": "text/x-python",
   "name": "python",
   "nbconvert_exporter": "python",
   "pygments_lexer": "ipython3",
   "version": "3.6.13"
  }
 },
 "nbformat": 4,
 "nbformat_minor": 5
}
