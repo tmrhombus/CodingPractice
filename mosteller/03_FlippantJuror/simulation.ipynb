{
 "cells": [
  {
   "cell_type": "code",
   "execution_count": 1,
   "id": "9672fc78",
   "metadata": {},
   "outputs": [],
   "source": [
    "import numpy as np\n",
    "import random"
   ]
  },
  {
   "cell_type": "code",
   "execution_count": 2,
   "id": "8cb8e265",
   "metadata": {},
   "outputs": [],
   "source": [
    "p_juror   = 0.9\n",
    "p_flipper = 0.5\n",
    "n_iterations = 10000000"
   ]
  },
  {
   "cell_type": "code",
   "execution_count": 3,
   "id": "5de04c4f",
   "metadata": {},
   "outputs": [],
   "source": [
    "def decision(prob):\n",
    "    n = random.random()\n",
    "    if n < prob:\n",
    "        return True\n",
    "    else:\n",
    "        return False"
   ]
  },
  {
   "cell_type": "code",
   "execution_count": 4,
   "id": "a08a713e",
   "metadata": {},
   "outputs": [],
   "source": [
    "def decision_3jury(prob):\n",
    "    juror_a = decision(prob)\n",
    "    juror_b = decision(prob)\n",
    "    juror_c = decision(p_flipper)\n",
    "    #print( f\"A: {juror_a}, B: {juror_b}, C: {juror_c}\" )\n",
    "    #print( f\"Sum: {int(juror_a)+int(juror_b)+int(juror_c)}\" )\n",
    "    \n",
    "    if int(juror_a)+int(juror_b)+int(juror_c) >= 2:\n",
    "        return True\n",
    "    else: \n",
    "        return False"
   ]
  },
  {
   "cell_type": "code",
   "execution_count": 5,
   "id": "f467b0d9",
   "metadata": {},
   "outputs": [
    {
     "name": "stdout",
     "output_type": "stream",
     "text": [
      "After 10000000 iterations:\n",
      " 3 person jury was correct 9001518 times (90.01518%)\n",
      " 1 person jury was correct 9001249 times (90.01249%)\n"
     ]
    }
   ],
   "source": [
    "n_correct_3person = 0\n",
    "n_correct_1person = 0\n",
    "\n",
    "for i in range(n_iterations):\n",
    "    a = decision_3jury(p_juror)\n",
    "    b = decision(p_juror)\n",
    "    if a==True:\n",
    "        n_correct_3person += 1\n",
    "    if b==True:\n",
    "        n_correct_1person += 1\n",
    "\n",
    "print( f\"After {n_iterations} iterations:\" )\n",
    "print( f\" 3 person jury was correct {n_correct_3person} times ({100*n_correct_3person/n_iterations}%)\" )\n",
    "print( f\" 1 person jury was correct {n_correct_1person} times ({100*n_correct_1person/n_iterations}%)\" )"
   ]
  }
 ],
 "metadata": {
  "kernelspec": {
   "display_name": "Python 3",
   "language": "python",
   "name": "python3"
  },
  "language_info": {
   "codemirror_mode": {
    "name": "ipython",
    "version": 3
   },
   "file_extension": ".py",
   "mimetype": "text/x-python",
   "name": "python",
   "nbconvert_exporter": "python",
   "pygments_lexer": "ipython3",
   "version": "3.6.13"
  }
 },
 "nbformat": 4,
 "nbformat_minor": 5
}
