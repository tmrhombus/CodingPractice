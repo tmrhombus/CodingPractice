{
 "cells": [
  {
   "cell_type": "code",
   "execution_count": 2,
   "id": "ee365a3b",
   "metadata": {},
   "outputs": [],
   "source": [
    "import numpy as np"
   ]
  },
  {
   "cell_type": "code",
   "execution_count": 3,
   "id": "e54b49d3",
   "metadata": {},
   "outputs": [],
   "source": [
    "## define semi-factorial\n",
    "def semifac( n, m ):\n",
    "    \"\"\"\n",
    "    returns the product of the first m terms in\n",
    "    n(n-1)(n-2)...\n",
    "    semifac(a,a) returns the full factorial, a!\n",
    "    \"\"\"\n",
    "    out = 1\n",
    "    for i in range(m):\n",
    "        out = out * (n-i)\n",
    "    return out"
   ]
  },
  {
   "cell_type": "code",
   "execution_count": 4,
   "id": "37778c16",
   "metadata": {},
   "outputs": [],
   "source": [
    "N = 52 ## cards in a deck\n",
    "h = 13 ## cards in a hand"
   ]
  },
  {
   "cell_type": "code",
   "execution_count": 5,
   "id": "1afbe7db",
   "metadata": {},
   "outputs": [
    {
     "name": "stdout",
     "output_type": "stream",
     "text": [
      "There are 3954242643911239680000 possible hands\n"
     ]
    }
   ],
   "source": [
    "n_hands = semifac( N, h )\n",
    "print(f\"There are {n_hands} possible hands\")"
   ]
  },
  {
   "cell_type": "code",
   "execution_count": 6,
   "id": "3a3a01ba",
   "metadata": {},
   "outputs": [
    {
     "name": "stdout",
     "output_type": "stream",
     "text": [
      "6.299078089796431e-12\n"
     ]
    }
   ],
   "source": [
    "## perfect hand combinations\n",
    "n_perfect = 52 * semifac(12, 12)\n",
    "\n",
    "prob = n_perfect / n_hands\n",
    "print(prob)"
   ]
  },
  {
   "cell_type": "code",
   "execution_count": null,
   "id": "b106a2dc",
   "metadata": {},
   "outputs": [],
   "source": []
  },
  {
   "cell_type": "code",
   "execution_count": 7,
   "id": "20853398",
   "metadata": {},
   "outputs": [],
   "source": [
    "a = 52*51*50*49*48*47*46*45*44*43*42*41*40\n",
    "b = 52*12*11*10*9*8*7*6*5*4*3*2*1"
   ]
  },
  {
   "cell_type": "code",
   "execution_count": 8,
   "id": "42a4629e",
   "metadata": {},
   "outputs": [
    {
     "name": "stdout",
     "output_type": "stream",
     "text": [
      "158753389900.0\n"
     ]
    }
   ],
   "source": [
    "print(  a/b )"
   ]
  },
  {
   "cell_type": "code",
   "execution_count": 9,
   "id": "66116e3b",
   "metadata": {},
   "outputs": [
    {
     "name": "stdout",
     "output_type": "stream",
     "text": [
      "0.492929292929293\n"
     ]
    }
   ],
   "source": []
  }
 ],
 "metadata": {
  "kernelspec": {
   "display_name": "Python 3",
   "language": "python",
   "name": "python3"
  },
  "language_info": {
   "codemirror_mode": {
    "name": "ipython",
    "version": 3
   },
   "file_extension": ".py",
   "mimetype": "text/x-python",
   "name": "python",
   "nbconvert_exporter": "python",
   "pygments_lexer": "ipython3",
   "version": "3.6.13"
  }
 },
 "nbformat": 4,
 "nbformat_minor": 5
}
