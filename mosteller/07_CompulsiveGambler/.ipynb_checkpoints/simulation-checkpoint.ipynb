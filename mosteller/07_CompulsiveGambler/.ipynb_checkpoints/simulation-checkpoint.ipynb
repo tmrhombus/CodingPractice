{
 "cells": [
  {
   "cell_type": "code",
   "execution_count": 1,
   "id": "42b57f4d",
   "metadata": {},
   "outputs": [],
   "source": [
    "import numpy as np\n",
    "import random\n",
    "import matplotlib.pyplot as plt"
   ]
  },
  {
   "cell_type": "code",
   "execution_count": 12,
   "id": "a00482a8",
   "metadata": {},
   "outputs": [],
   "source": [
    "n_iterations = 1000000"
   ]
  },
  {
   "cell_type": "code",
   "execution_count": 3,
   "id": "b84bbdd1",
   "metadata": {},
   "outputs": [],
   "source": [
    "def spin_wheel():\n",
    "    return random.randint(1,38)"
   ]
  },
  {
   "cell_type": "code",
   "execution_count": 4,
   "id": "d590d4f2",
   "metadata": {},
   "outputs": [],
   "source": [
    "def play_game():\n",
    "    bet = 13\n",
    "    num = spin_wheel()\n",
    "    if num == bet:\n",
    "        return 35\n",
    "    else: return -1"
   ]
  },
  {
   "cell_type": "code",
   "execution_count": 5,
   "id": "9f395d1d",
   "metadata": {},
   "outputs": [],
   "source": [
    "def play_for_month():\n",
    "    total_payout = 0\n",
    "    for i in range(36):\n",
    "        total_payout += play_game()\n",
    "    if total_payout < 0:\n",
    "        total_payout -= 20\n",
    "    else:\n",
    "        total_payout += 20\n",
    "    return total_payout"
   ]
  },
  {
   "cell_type": "code",
   "execution_count": 13,
   "id": "6629d21e",
   "metadata": {},
   "outputs": [],
   "source": [
    "list_payouts = [ play_for_month() for i in range(n_iterations) ]\n",
    "\n",
    "avg_payout = np.average(list_payouts)"
   ]
  },
  {
   "cell_type": "code",
   "execution_count": 14,
   "id": "d86904f1",
   "metadata": {},
   "outputs": [
    {
     "name": "stdout",
     "output_type": "stream",
     "text": [
      "Average Payout: 2.785752\n"
     ]
    }
   ],
   "source": [
    "print(f\"Average Payout: {avg_payout}\")\n",
    "#print(list_payouts)"
   ]
  },
  {
   "cell_type": "code",
   "execution_count": 15,
   "id": "1230e1a9",
   "metadata": {},
   "outputs": [
    {
     "data": {
      "text/plain": [
       "<matplotlib.lines.Line2D at 0x7f887559db00>"
      ]
     },
     "execution_count": 15,
     "metadata": {},
     "output_type": "execute_result"
    },
    {
     "data": {
      "image/png": "[encoded data removed]",
      "text/plain": [
       "<Figure size 720x360 with 1 Axes>"
      ]
     },
     "metadata": {
      "needs_background": "light"
     },
     "output_type": "display_data"
    }
   ],
   "source": [
    "figw = 10\n",
    "figh = 5\n",
    "nbins = 30\n",
    "\n",
    "c_base = \"#012155\"\n",
    "c_hist = \"teal\" #\"black\"\n",
    "fs = 20\n",
    "lw = 3\n",
    "\n",
    "title = \"Histogram of Payouts\"\n",
    "ytitle = \"Counts\"\n",
    "xtitle = \"Payout\"\n",
    "\n",
    "fig, ax1 = plt.subplots(1, 1, figsize = (figw, figh))\n",
    "\n",
    "ax1.set_title(title, fontsize=fs+5, loc=\"left\", color=c_base)\n",
    "ax1.set_ylabel(ytitle, fontsize=fs, color=c_base)\n",
    "ax1.set_xlabel(xtitle, fontsize=fs, color=c_base)\n",
    "ax1.tick_params( axis=\"both\", which=\"major\", labelsize=fs-5, colors=c_base )\n",
    "\n",
    "ax1.spines[\"top\"].set_visible(False)\n",
    "ax1.spines[\"right\"].set_visible(False)\n",
    "ax1.spines[\"bottom\"].set_color(c_base)\n",
    "ax1.spines[\"left\"].set_color(c_base)\n",
    "\n",
    "ax1.hist( list_payouts, bins=nbins, histtype=\"step\", linewidth=lw, color=c_hist )\n",
    "\n",
    "ax1.axvline( avg_payout, lw=lw, color=c_hist, linestyle=\":\" )"
   ]
  }
 ],
 "metadata": {
  "kernelspec": {
   "display_name": "Python 3",
   "language": "python",
   "name": "python3"
  },
  "language_info": {
   "codemirror_mode": {
    "name": "ipython",
    "version": 3
   },
   "file_extension": ".py",
   "mimetype": "text/x-python",
   "name": "python",
   "nbconvert_exporter": "python",
   "pygments_lexer": "ipython3",
   "version": "3.6.13"
  }
 },
 "nbformat": 4,
 "nbformat_minor": 5
}
