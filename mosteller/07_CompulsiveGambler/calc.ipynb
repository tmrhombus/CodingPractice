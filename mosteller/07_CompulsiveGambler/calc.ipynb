{
 "cells": [
  {
   "cell_type": "code",
   "execution_count": 1,
   "id": "b9fabf43",
   "metadata": {},
   "outputs": [],
   "source": [
    "import numpy as np"
   ]
  },
  {
   "cell_type": "code",
   "execution_count": 2,
   "id": "bf092e71",
   "metadata": {},
   "outputs": [],
   "source": [
    "prob_win = 1/38 ## probability of a win\n",
    "prob_loss = 1 - prob_win ## probability of a loss\n",
    "payout_win  = 35\n",
    "payout_loss = -1"
   ]
  },
  {
   "cell_type": "code",
   "execution_count": 3,
   "id": "0b47f8b2",
   "metadata": {},
   "outputs": [
    {
     "name": "stdout",
     "output_type": "stream",
     "text": [
      "Expected Payout for one day: -0.052631578947368474\n"
     ]
    }
   ],
   "source": [
    "expected_payout_oneday = (prob_win * payout_win) + (prob_loss * payout_loss)\n",
    "print(f\"Expected Payout for one day: {expected_payout_oneday}\")"
   ]
  },
  {
   "cell_type": "code",
   "execution_count": 4,
   "id": "4f0c0bbc",
   "metadata": {},
   "outputs": [
    {
     "name": "stdout",
     "output_type": "stream",
     "text": [
      "Expected Payout for 36 days: -1.894736842105265\n"
     ]
    }
   ],
   "source": [
    "expected_payout_36days = 36 * expected_payout_oneday\n",
    "print(f\"Expected Payout for 36 days: {expected_payout_36days}\")"
   ]
  },
  {
   "cell_type": "code",
   "execution_count": 5,
   "id": "8a05943b",
   "metadata": {},
   "outputs": [
    {
     "name": "stdout",
     "output_type": "stream",
     "text": [
      "Probability of no wins: 0.38287110192022733\n"
     ]
    }
   ],
   "source": [
    "## To be non-negative after 36 days, need at least 1 win\n",
    "prob_no_wins = (prob_loss)**36\n",
    "print(f\"Probability of no wins: {prob_no_wins}\")"
   ]
  },
  {
   "cell_type": "code",
   "execution_count": 6,
   "id": "16970c2a",
   "metadata": {},
   "outputs": [
    {
     "name": "stdout",
     "output_type": "stream",
     "text": [
      "Expected Payout Friend: 4.685155923190906\n"
     ]
    }
   ],
   "source": [
    "expected_payout_friend = (-20 * prob_no_wins) + (20 * (1-prob_no_wins) )\n",
    "print(f\"Expected Payout Friend: {expected_payout_friend}\")"
   ]
  },
  {
   "cell_type": "code",
   "execution_count": 7,
   "id": "7d438258",
   "metadata": {},
   "outputs": [
    {
     "name": "stdout",
     "output_type": "stream",
     "text": [
      "Total Expected Payout: 2.790419081085641\n"
     ]
    }
   ],
   "source": [
    "total_expected_payout = expected_payout_friend + expected_payout_36days\n",
    "print(f\"Total Expected Payout: {total_expected_payout}\")"
   ]
  },
  {
   "cell_type": "code",
   "execution_count": null,
   "id": "3d424c00",
   "metadata": {},
   "outputs": [],
   "source": []
  }
 ],
 "metadata": {
  "kernelspec": {
   "display_name": "Python 3",
   "language": "python",
   "name": "python3"
  },
  "language_info": {
   "codemirror_mode": {
    "name": "ipython",
    "version": 3
   },
   "file_extension": ".py",
   "mimetype": "text/x-python",
   "name": "python",
   "nbconvert_exporter": "python",
   "pygments_lexer": "ipython3",
   "version": "3.6.13"
  }
 },
 "nbformat": 4,
 "nbformat_minor": 5
}
