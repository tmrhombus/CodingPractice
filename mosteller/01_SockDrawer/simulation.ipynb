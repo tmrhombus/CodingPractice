{
 "cells": [
  {
   "cell_type": "code",
   "execution_count": 1,
   "id": "bab587b2",
   "metadata": {},
   "outputs": [],
   "source": [
    "## Simulation for Sock Drawer Problem"
   ]
  },
  {
   "cell_type": "code",
   "execution_count": 2,
   "id": "37385ca3",
   "metadata": {},
   "outputs": [],
   "source": [
    "import numpy as np\n",
    "import random "
   ]
  },
  {
   "cell_type": "code",
   "execution_count": 3,
   "id": "053e58ef",
   "metadata": {},
   "outputs": [],
   "source": [
    "n_red = 15\n",
    "n_black = 6\n",
    "n_iterations = 10000000"
   ]
  },
  {
   "cell_type": "code",
   "execution_count": 4,
   "id": "80c38743",
   "metadata": {},
   "outputs": [],
   "source": [
    "list_red   = [\"R\"]*n_red\n",
    "list_black = [\"B\"]*n_black\n",
    "\n",
    "list_drawer = list_red + list_black"
   ]
  },
  {
   "cell_type": "code",
   "execution_count": 5,
   "id": "336052a3",
   "metadata": {},
   "outputs": [],
   "source": [
    "def pick_two(list_drawer):\n",
    "    list_tmp = list_drawer[:]\n",
    "    loc = random.randrange(len(list_tmp))\n",
    "    choice_a = list_tmp[loc]\n",
    "    list_tmp.pop(loc)\n",
    "    loc = random.randrange(len(list_tmp))\n",
    "    choice_b = list_tmp[loc]\n",
    "    return choice_a, choice_b"
   ]
  },
  {
   "cell_type": "code",
   "execution_count": 6,
   "id": "665bc2be",
   "metadata": {},
   "outputs": [
    {
     "name": "stdout",
     "output_type": "stream",
     "text": [
      "For 15 red socks, and 6 black socks\n",
      "the winrate is 0.5001645 after 10000000 simulations\n"
     ]
    }
   ],
   "source": [
    "n_wins = 0\n",
    "\n",
    "for i in range(n_iterations):\n",
    "    a,b = pick_two(list_drawer)\n",
    "    if a==\"R\" and b==\"R\":\n",
    "        n_wins+=1\n",
    "\n",
    "winrate = n_wins / n_iterations\n",
    "print(f\"For {n_red} red socks, and {n_black} black socks\")\n",
    "print(f\"the winrate is {winrate} after {n_iterations} simulations\")"
   ]
  },
  {
   "cell_type": "code",
   "execution_count": null,
   "id": "4374bfb5",
   "metadata": {},
   "outputs": [],
   "source": []
  }
 ],
 "metadata": {
  "kernelspec": {
   "display_name": "Python 3",
   "language": "python",
   "name": "python3"
  },
  "language_info": {
   "codemirror_mode": {
    "name": "ipython",
    "version": 3
   },
   "file_extension": ".py",
   "mimetype": "text/x-python",
   "name": "python",
   "nbconvert_exporter": "python",
   "pygments_lexer": "ipython3",
   "version": "3.6.13"
  }
 },
 "nbformat": 4,
 "nbformat_minor": 5
}
