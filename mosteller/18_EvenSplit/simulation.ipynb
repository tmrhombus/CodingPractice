{
 "cells": [
  {
   "cell_type": "code",
   "execution_count": 1,
   "id": "0590b15a",
   "metadata": {},
   "outputs": [],
   "source": [
    "import numpy as np\n",
    "import random"
   ]
  },
  {
   "cell_type": "code",
   "execution_count": 2,
   "id": "b4d7b919",
   "metadata": {},
   "outputs": [],
   "source": [
    "n_iterations = 1000000"
   ]
  },
  {
   "cell_type": "code",
   "execution_count": 3,
   "id": "295f90c7",
   "metadata": {},
   "outputs": [],
   "source": [
    "def flip_coin():\n",
    "    return random.randint(0,1)"
   ]
  },
  {
   "cell_type": "code",
   "execution_count": 4,
   "id": "b97b6ec5",
   "metadata": {},
   "outputs": [
    {
     "name": "stdout",
     "output_type": "stream",
     "text": [
      "0\n"
     ]
    }
   ],
   "source": [
    "print(flip_coin())"
   ]
  },
  {
   "cell_type": "code",
   "execution_count": 5,
   "id": "ffa55478",
   "metadata": {},
   "outputs": [],
   "source": [
    "def flip_100coins():\n",
    "    count_heads = 0\n",
    "    for i in range(100):\n",
    "        count_heads += flip_coin()\n",
    "    return count_heads"
   ]
  },
  {
   "cell_type": "code",
   "execution_count": 6,
   "id": "7a03f54c",
   "metadata": {},
   "outputs": [],
   "source": [
    "list_nheads = []\n",
    "for i in range(n_iterations):\n",
    "    list_nheads.append(flip_100coins())"
   ]
  },
  {
   "cell_type": "code",
   "execution_count": 7,
   "id": "bb0f21b9",
   "metadata": {},
   "outputs": [
    {
     "name": "stdout",
     "output_type": "stream",
     "text": [
      "79870\n"
     ]
    }
   ],
   "source": [
    "count_50s = list_nheads.count(50)\n",
    "print(count_50s)"
   ]
  },
  {
   "cell_type": "code",
   "execution_count": 8,
   "id": "58ca7628",
   "metadata": {},
   "outputs": [
    {
     "name": "stdout",
     "output_type": "stream",
     "text": [
      "In 1000000 iterations of flipping 100 coins\n",
      "we saw exactly 50 heads 79870 times = 0.07987\n"
     ]
    }
   ],
   "source": [
    "print(f\"In {n_iterations} iterations of flipping 100 coins\")\n",
    "print(f\"we saw exactly 50 heads {count_50s} times = {count_50s/n_iterations}\")"
   ]
  },
  {
   "cell_type": "code",
   "execution_count": null,
   "id": "ac84a01c",
   "metadata": {},
   "outputs": [],
   "source": []
  }
 ],
 "metadata": {
  "kernelspec": {
   "display_name": "Python 3",
   "language": "python",
   "name": "python3"
  },
  "language_info": {
   "codemirror_mode": {
    "name": "ipython",
    "version": 3
   },
   "file_extension": ".py",
   "mimetype": "text/x-python",
   "name": "python",
   "nbconvert_exporter": "python",
   "pygments_lexer": "ipython3",
   "version": "3.6.13"
  }
 },
 "nbformat": 4,
 "nbformat_minor": 5
}
