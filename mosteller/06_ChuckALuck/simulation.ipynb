{
 "cells": [
  {
   "cell_type": "code",
   "execution_count": 1,
   "id": "ce6fd3e7",
   "metadata": {},
   "outputs": [],
   "source": [
    "import numpy as np\n",
    "import random\n",
    "import matplotlib.pyplot as plt"
   ]
  },
  {
   "cell_type": "code",
   "execution_count": 2,
   "id": "d351465e",
   "metadata": {},
   "outputs": [],
   "source": [
    "n_iterations = 1000000"
   ]
  },
  {
   "cell_type": "code",
   "execution_count": 3,
   "id": "782d16ff",
   "metadata": {},
   "outputs": [],
   "source": [
    "def roll_die():\n",
    "    return random.randint(1,6)\n",
    "\n",
    "def play_game():\n",
    "    bet = roll_die()\n",
    "    roll1 = roll_die()\n",
    "    roll2 = roll_die()\n",
    "    roll3 = roll_die()\n",
    "    \n",
    "    payout = 0\n",
    "    if roll1 == bet:\n",
    "        payout += 1\n",
    "    if roll2 == bet:\n",
    "        payout += 1\n",
    "    if roll3 == bet:\n",
    "        payout += 1\n",
    "    if payout == 0:\n",
    "        payout = -1\n",
    "        \n",
    "    #print(f\"bet: {bet}, rolls: {roll1} {roll2} {roll3}, payout: {payout}\")\n",
    "    return payout"
   ]
  },
  {
   "cell_type": "code",
   "execution_count": 6,
   "id": "572dcfd6",
   "metadata": {},
   "outputs": [
    {
     "name": "stdout",
     "output_type": "stream",
     "text": [
      "On average the payout is -0.07819\n",
      "Theoretical avg: -0.0787037037037037\n"
     ]
    }
   ],
   "source": [
    "list_payouts = [ play_game() for i in range(n_iterations) ]\n",
    "avg_payout = np.mean(list_payouts)\n",
    "print(f\"On average the payout is {avg_payout}\")\n",
    "print(f\"Theoretical avg: {-17/216}\")"
   ]
  },
  {
   "cell_type": "code",
   "execution_count": null,
   "id": "e6bb9d88",
   "metadata": {},
   "outputs": [],
   "source": []
  },
  {
   "cell_type": "code",
   "execution_count": 7,
   "id": "6c7710e0",
   "metadata": {},
   "outputs": [
    {
     "data": {
      "text/plain": [
       "<matplotlib.lines.Line2D at 0x7f8c0a5d35c0>"
      ]
     },
     "execution_count": 7,
     "metadata": {},
     "output_type": "execute_result"
    },
    {
     "data": {
      "image/png": "[encoded data removed]",
      "text/plain": [
       "<Figure size 720x360 with 1 Axes>"
      ]
     },
     "metadata": {
      "needs_background": "light"
     },
     "output_type": "display_data"
    }
   ],
   "source": [
    "figw = 10\n",
    "figh = 5\n",
    "nbins = 30\n",
    "\n",
    "c_base = \"#012155\"\n",
    "c_hist = \"teal\" #\"black\"\n",
    "fs = 20\n",
    "lw = 3\n",
    "\n",
    "title = \"Histogram of Payouts\"\n",
    "ytitle = \"Counts\"\n",
    "xtitle = \"Payout\"\n",
    "\n",
    "fig, ax1 = plt.subplots(1, 1, figsize = (figw, figh))\n",
    "\n",
    "ax1.set_title(title, fontsize=fs+5, loc=\"left\", color=c_base)\n",
    "ax1.set_ylabel(ytitle, fontsize=fs, color=c_base)\n",
    "ax1.set_xlabel(xtitle, fontsize=fs, color=c_base)\n",
    "ax1.tick_params( axis=\"both\", which=\"major\", labelsize=fs-5, colors=c_base )\n",
    "\n",
    "ax1.spines[\"top\"].set_visible(False)\n",
    "ax1.spines[\"right\"].set_visible(False)\n",
    "ax1.spines[\"bottom\"].set_color(c_base)\n",
    "ax1.spines[\"left\"].set_color(c_base)\n",
    "\n",
    "ax1.hist( list_payouts, bins=nbins, histtype=\"step\", linewidth=lw, color=c_hist )\n",
    "\n",
    "ax1.axvline( avg_payout, lw=lw, color=c_hist, linestyle=\":\" )"
   ]
  },
  {
   "cell_type": "code",
   "execution_count": null,
   "id": "3fed3076",
   "metadata": {},
   "outputs": [],
   "source": []
  }
 ],
 "metadata": {
  "kernelspec": {
   "display_name": "Python 3",
   "language": "python",
   "name": "python3"
  },
  "language_info": {
   "codemirror_mode": {
    "name": "ipython",
    "version": 3
   },
   "file_extension": ".py",
   "mimetype": "text/x-python",
   "name": "python",
   "nbconvert_exporter": "python",
   "pygments_lexer": "ipython3",
   "version": "3.6.13"
  }
 },
 "nbformat": 4,
 "nbformat_minor": 5
}
