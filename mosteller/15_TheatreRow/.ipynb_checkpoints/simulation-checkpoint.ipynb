{
 "cells": [
  {
   "cell_type": "code",
   "execution_count": 1,
   "id": "d2bf05f8",
   "metadata": {},
   "outputs": [],
   "source": [
    "import numpy as np\n",
    "import random\n",
    "import matplotlib.pyplot as plt"
   ]
  },
  {
   "cell_type": "code",
   "execution_count": 2,
   "id": "326ee25e",
   "metadata": {},
   "outputs": [],
   "source": [
    "n_iterations = 5000000\n",
    "n_men = 8\n",
    "n_women = 7"
   ]
  },
  {
   "cell_type": "code",
   "execution_count": 3,
   "id": "1b78be6d",
   "metadata": {},
   "outputs": [],
   "source": [
    "list_men = [0 for i in range(n_men)]\n",
    "list_women = [1 for i in range(n_women)]\n",
    "list_all = list_men + list_women"
   ]
  },
  {
   "cell_type": "code",
   "execution_count": 4,
   "id": "a23a3f3b",
   "metadata": {},
   "outputs": [],
   "source": [
    "def count_pairs(thelist):\n",
    "    #print(thelist)\n",
    "    n_pairs = 0\n",
    "    for i in range(len(thelist)-1):\n",
    "        #print( f\"{i}:  {thelist[i]},{thelist[i+1]}\")\n",
    "        if thelist[i] + thelist[i+1] == 1:\n",
    "            n_pairs += 1\n",
    "    return n_pairs"
   ]
  },
  {
   "cell_type": "code",
   "execution_count": 5,
   "id": "2305a0ca",
   "metadata": {},
   "outputs": [],
   "source": [
    "list_n_pairs = []\n",
    "\n",
    "for i in range(n_iterations):\n",
    "    random.shuffle(list_all)\n",
    "    list_n_pairs.append( count_pairs(list_all) )\n",
    "    \n",
    "avg_n_pairs = np.mean(list_n_pairs)"
   ]
  },
  {
   "cell_type": "code",
   "execution_count": 6,
   "id": "100ae930",
   "metadata": {},
   "outputs": [
    {
     "name": "stdout",
     "output_type": "stream",
     "text": [
      "After 5000000 iterations, avg is 7.4669856 pairs\n",
      "Theoretical Value: 7.466666666666667 pairs\n"
     ]
    }
   ],
   "source": [
    "print( f\"After {n_iterations} iterations, avg is {avg_n_pairs} pairs\")\n",
    "print( f\"Theoretical Value: {112/15} pairs\" )"
   ]
  },
  {
   "cell_type": "code",
   "execution_count": 7,
   "id": "df8472a6",
   "metadata": {},
   "outputs": [
    {
     "data": {
      "text/plain": [
       "<matplotlib.lines.Line2D at 0x7fe48451bb38>"
      ]
     },
     "execution_count": 7,
     "metadata": {},
     "output_type": "execute_result"
    },
    {
     "data": {
      "image/png": "[encoded data removed]",
      "text/plain": [
       "<Figure size 720x360 with 1 Axes>"
      ]
     },
     "metadata": {
      "needs_background": "light"
     },
     "output_type": "display_data"
    }
   ],
   "source": [
    "figw = 10\n",
    "figh = 5\n",
    "nbins = 14\n",
    "\n",
    "c_base = \"#012155\"\n",
    "c_hist = \"teal\" #\"black\"\n",
    "fs = 20\n",
    "lw = 3\n",
    "\n",
    "title = \"Histogram of Number of Pairs\"\n",
    "ytitle = \"Counts\"\n",
    "xtitle = \"Nr. Pairs\"\n",
    "\n",
    "fig, ax1 = plt.subplots(1, 1, figsize = (figw, figh))\n",
    "\n",
    "ax1.set_title(title, fontsize=fs+5, loc=\"left\", color=c_base)\n",
    "ax1.set_ylabel(ytitle, fontsize=fs, color=c_base)\n",
    "ax1.set_xlabel(xtitle, fontsize=fs, color=c_base)\n",
    "ax1.tick_params( axis=\"both\", which=\"major\", labelsize=fs-5, colors=c_base )\n",
    "\n",
    "ax1.spines[\"top\"].set_visible(False)\n",
    "ax1.spines[\"right\"].set_visible(False)\n",
    "ax1.spines[\"bottom\"].set_color(c_base)\n",
    "ax1.spines[\"left\"].set_color(c_base)\n",
    "\n",
    "ax1.hist( list_n_pairs, bins=nbins, histtype=\"step\", linewidth=lw, color=c_hist )\n",
    "\n",
    "ax1.axvline( avg_n_pairs, lw=lw, color=c_hist, linestyle=\":\" )"
   ]
  },
  {
   "cell_type": "code",
   "execution_count": 8,
   "id": "d54ba393",
   "metadata": {},
   "outputs": [
    {
     "name": "stdout",
     "output_type": "stream",
     "text": [
      "{1, 2, 3, 4, 5, 6, 7, 8, 9, 10, 11, 12, 13, 14}\n"
     ]
    }
   ],
   "source": [
    "print(set(list_n_pairs))"
   ]
  },
  {
   "cell_type": "code",
   "execution_count": null,
   "id": "54f28d31",
   "metadata": {},
   "outputs": [],
   "source": []
  }
 ],
 "metadata": {
  "kernelspec": {
   "display_name": "Python 3",
   "language": "python",
   "name": "python3"
  },
  "language_info": {
   "codemirror_mode": {
    "name": "ipython",
    "version": 3
   },
   "file_extension": ".py",
   "mimetype": "text/x-python",
   "name": "python",
   "nbconvert_exporter": "python",
   "pygments_lexer": "ipython3",
   "version": "3.6.13"
  }
 },
 "nbformat": 4,
 "nbformat_minor": 5
}
