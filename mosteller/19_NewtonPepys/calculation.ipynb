{
 "cells": [
  {
   "cell_type": "code",
   "execution_count": 1,
   "id": "a55c9407",
   "metadata": {},
   "outputs": [],
   "source": [
    "import numpy as np"
   ]
  },
  {
   "cell_type": "code",
   "execution_count": 10,
   "id": "270e7424",
   "metadata": {},
   "outputs": [],
   "source": [
    "p = 1/6\n",
    "q = 1-p"
   ]
  },
  {
   "cell_type": "code",
   "execution_count": 11,
   "id": "1a2c3a72",
   "metadata": {},
   "outputs": [],
   "source": [
    "def n_choose_k(n,k):\n",
    "    return np.math.factorial(n) / ( np.math.factorial(k) * np.math.factorial(n-k) )"
   ]
  },
  {
   "cell_type": "code",
   "execution_count": 12,
   "id": "2950ef4f",
   "metadata": {},
   "outputs": [],
   "source": [
    "def exactly_k_in_n(k,n):\n",
    "    return ( n_choose_k(n,k) * (p**k) * (q**(n-k)) )"
   ]
  },
  {
   "cell_type": "code",
   "execution_count": 22,
   "id": "a94b07e2",
   "metadata": {},
   "outputs": [],
   "source": [
    "def at_least_k_in_n(k,n):\n",
    "    thesum = 0\n",
    "    for i in range(k,n+1):\n",
    "        thesum += exactly_k_in_n(i, n)\n",
    "    return thesum"
   ]
  },
  {
   "cell_type": "code",
   "execution_count": 25,
   "id": "ceeb4a9a",
   "metadata": {},
   "outputs": [
    {
     "name": "stdout",
     "output_type": "stream",
     "text": [
      "0.6651020233196161\n",
      "0.618667373732309\n",
      "0.5973456859477233\n"
     ]
    }
   ],
   "source": [
    "print(at_least_k_in_n(1,6))\n",
    "print(at_least_k_in_n(2,12))\n",
    "print(at_least_k_in_n(3,18))"
   ]
  }
 ],
 "metadata": {
  "kernelspec": {
   "display_name": "Python 3",
   "language": "python",
   "name": "python3"
  },
  "language_info": {
   "codemirror_mode": {
    "name": "ipython",
    "version": 3
   },
   "file_extension": ".py",
   "mimetype": "text/x-python",
   "name": "python",
   "nbconvert_exporter": "python",
   "pygments_lexer": "ipython3",
   "version": "3.6.13"
  }
 },
 "nbformat": 4,
 "nbformat_minor": 5
}
