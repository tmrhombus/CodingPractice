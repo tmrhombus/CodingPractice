{
 "cells": [
  {
   "cell_type": "code",
   "execution_count": 1,
   "id": "ac952982",
   "metadata": {},
   "outputs": [],
   "source": [
    "import numpy as np\n",
    "import random"
   ]
  },
  {
   "cell_type": "code",
   "execution_count": 2,
   "id": "7102be30",
   "metadata": {},
   "outputs": [],
   "source": [
    "n_iterations = 1000000"
   ]
  },
  {
   "cell_type": "code",
   "execution_count": 3,
   "id": "c0bacd47",
   "metadata": {},
   "outputs": [],
   "source": [
    "thebracket = [i for i in range(1,9)]\n",
    "random.shuffle(thebracket)"
   ]
  },
  {
   "cell_type": "code",
   "execution_count": 4,
   "id": "f9796e17",
   "metadata": {},
   "outputs": [
    {
     "name": "stdout",
     "output_type": "stream",
     "text": [
      "[6, 5, 8, 7, 1, 4, 2, 3]\n"
     ]
    }
   ],
   "source": [
    "print(thebracket)"
   ]
  },
  {
   "cell_type": "code",
   "execution_count": 5,
   "id": "d1ff8863",
   "metadata": {},
   "outputs": [],
   "source": [
    "def play_in_final(bracket):\n",
    "    lhs = bracket[0:4]\n",
    "    rhs = bracket[4:8]\n",
    "    #print(lhs)\n",
    "    #print(rhs)\n",
    "    if 1 in lhs and 2 in lhs:\n",
    "        #print(\"LHS\")\n",
    "        return 0\n",
    "    elif 1 in rhs and 2 in rhs:\n",
    "        #print(\"RHS\")\n",
    "        return 0\n",
    "    else: return 1"
   ]
  },
  {
   "cell_type": "code",
   "execution_count": 6,
   "id": "05519402",
   "metadata": {},
   "outputs": [],
   "source": [
    "n_meets = 0\n",
    "for i in range(n_iterations):\n",
    "    random.shuffle(thebracket)\n",
    "    n_meets += play_in_final(thebracket)"
   ]
  },
  {
   "cell_type": "code",
   "execution_count": 7,
   "id": "615a0e0b",
   "metadata": {},
   "outputs": [
    {
     "name": "stdout",
     "output_type": "stream",
     "text": [
      "After 1000000 iterations, they met in the final 570544 times\n",
      "Average meet rate: 0.570544\n",
      "Theoretical: 0.5714285714285714\n"
     ]
    }
   ],
   "source": [
    "print(f\"After {n_iterations} iterations, they met in the final {n_meets} times\")\n",
    "print(f\"Average meet rate: {n_meets/n_iterations}\")\n",
    "print(f\"Theoretical: {4/7}\")"
   ]
  }
 ],
 "metadata": {
  "kernelspec": {
   "display_name": "Python 3",
   "language": "python",
   "name": "python3"
  },
  "language_info": {
   "codemirror_mode": {
    "name": "ipython",
    "version": 3
   },
   "file_extension": ".py",
   "mimetype": "text/x-python",
   "name": "python",
   "nbconvert_exporter": "python",
   "pygments_lexer": "ipython3",
   "version": "3.6.13"
  }
 },
 "nbformat": 4,
 "nbformat_minor": 5
}
