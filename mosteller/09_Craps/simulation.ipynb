{
 "cells": [
  {
   "cell_type": "code",
   "execution_count": 1,
   "id": "933fe96a",
   "metadata": {},
   "outputs": [],
   "source": [
    "## Simulation of Craps Games"
   ]
  },
  {
   "cell_type": "code",
   "execution_count": 2,
   "id": "e89280aa",
   "metadata": {},
   "outputs": [],
   "source": [
    "import numpy as np\n",
    "import random"
   ]
  },
  {
   "cell_type": "code",
   "execution_count": 3,
   "id": "d2545af6",
   "metadata": {},
   "outputs": [],
   "source": [
    "n_iterations = 1000000"
   ]
  },
  {
   "cell_type": "code",
   "execution_count": 4,
   "id": "1a473023",
   "metadata": {},
   "outputs": [],
   "source": [
    "def roll_die():\n",
    "    return random.randint(1,6)\n",
    "\n",
    "def roll_dice():\n",
    "    a = roll_die()\n",
    "    b = roll_die()\n",
    "    return a+b"
   ]
  },
  {
   "cell_type": "code",
   "execution_count": 5,
   "id": "9796fef2",
   "metadata": {},
   "outputs": [],
   "source": [
    "def play_craps():\n",
    "    n_round = 1\n",
    "    \n",
    "    point = roll_dice()\n",
    "    #print(f\"First Roll: {point}\")\n",
    "    if point == 7 or point == 11:\n",
    "        #print(f\" Won on first roll\")\n",
    "        return \"win\"\n",
    "    if point == 2 or point == 3 or point == 12:\n",
    "        #print(f\" Lost on first roll\")\n",
    "        return \"lose\"\n",
    "    \n",
    "    while True:\n",
    "        n_round += 1\n",
    "        theroll = roll_dice()\n",
    "        #print(f\"Roll {n_round}: {theroll}\")\n",
    "        if theroll == point:\n",
    "            #print(f\" Won on round {n_round}\")\n",
    "            return \"win\"\n",
    "        if theroll == 7:\n",
    "            #print(f\" Lost on round {n_round}\")\n",
    "            return \"lose\""
   ]
  },
  {
   "cell_type": "code",
   "execution_count": 6,
   "id": "af63f6d6",
   "metadata": {},
   "outputs": [
    {
     "name": "stdout",
     "output_type": "stream",
     "text": [
      "After 1000000, probability of winning is 492921/1000000 = 0.49292\n"
     ]
    }
   ],
   "source": [
    "n_wins = 0\n",
    "for i in range(n_iterations):\n",
    "    a = play_craps()\n",
    "    if a==\"win\":\n",
    "        n_wins+=1\n",
    "\n",
    "print(f\"After {n_iterations}, probability of winning is {n_wins}/{n_iterations} = {n_wins/n_iterations:.5f}\")"
   ]
  },
  {
   "cell_type": "code",
   "execution_count": null,
   "id": "348a0569",
   "metadata": {},
   "outputs": [],
   "source": []
  },
  {
   "cell_type": "code",
   "execution_count": null,
   "id": "e1a2b5c6",
   "metadata": {},
   "outputs": [],
   "source": []
  },
  {
   "cell_type": "code",
   "execution_count": null,
   "id": "1aac34e1",
   "metadata": {},
   "outputs": [],
   "source": []
  },
  {
   "cell_type": "code",
   "execution_count": null,
   "id": "4147bcd5",
   "metadata": {},
   "outputs": [],
   "source": []
  },
  {
   "cell_type": "code",
   "execution_count": null,
   "id": "18d5c2de",
   "metadata": {},
   "outputs": [],
   "source": []
  },
  {
   "cell_type": "code",
   "execution_count": null,
   "id": "18045e4c",
   "metadata": {},
   "outputs": [],
   "source": []
  }
 ],
 "metadata": {
  "kernelspec": {
   "display_name": "Python 3",
   "language": "python",
   "name": "python3"
  },
  "language_info": {
   "codemirror_mode": {
    "name": "ipython",
    "version": 3
   },
   "file_extension": ".py",
   "mimetype": "text/x-python",
   "name": "python",
   "nbconvert_exporter": "python",
   "pygments_lexer": "ipython3",
   "version": "3.6.13"
  }
 },
 "nbformat": 4,
 "nbformat_minor": 5
}
