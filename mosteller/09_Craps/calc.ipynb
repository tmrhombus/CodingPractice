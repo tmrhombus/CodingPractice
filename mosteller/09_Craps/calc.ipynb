{
 "cells": [
  {
   "cell_type": "code",
   "execution_count": 1,
   "id": "3af8b631",
   "metadata": {},
   "outputs": [],
   "source": [
    "import numpy as np"
   ]
  },
  {
   "cell_type": "code",
   "execution_count": 2,
   "id": "1f7d69e2",
   "metadata": {},
   "outputs": [],
   "source": [
    "## key = sum of two dice\n",
    "## value = multiplicity\n",
    "dict_sums = {\n",
    "    2 : 1,\n",
    "    3 : 2,\n",
    "    4 : 3,\n",
    "    5 : 4, \n",
    "    6 : 5,\n",
    "    7 : 6,\n",
    "    8 : 5, \n",
    "    9 : 4,\n",
    "    10: 3,\n",
    "    11: 2,\n",
    "    12: 1\n",
    "}"
   ]
  },
  {
   "cell_type": "code",
   "execution_count": 3,
   "id": "0b5efe9a",
   "metadata": {},
   "outputs": [
    {
     "name": "stdout",
     "output_type": "stream",
     "text": [
      "3\n"
     ]
    }
   ],
   "source": [
    "print(dict_sums[4])"
   ]
  },
  {
   "cell_type": "code",
   "execution_count": null,
   "id": "d59dbc5f",
   "metadata": {},
   "outputs": [],
   "source": []
  },
  {
   "cell_type": "code",
   "execution_count": 4,
   "id": "4bbf884b",
   "metadata": {},
   "outputs": [],
   "source": [
    "p_win_first = 8/36\n",
    "p_lose_first = 4/36"
   ]
  },
  {
   "cell_type": "code",
   "execution_count": 6,
   "id": "19ccb390",
   "metadata": {},
   "outputs": [],
   "source": [
    "p_4_win = (3/36)*(3/9)\n",
    "p_5_win = (4/36)*(4/10)\n",
    "p_6_win = (5/36)*(5/11)\n",
    "p_8_win = p_6_win\n",
    "p_9_win = p_5_win\n",
    "p_10_win= p_4_win"
   ]
  },
  {
   "cell_type": "code",
   "execution_count": 8,
   "id": "c057535d",
   "metadata": {},
   "outputs": [],
   "source": [
    "p_total_win = (\n",
    "    p_win_first +\n",
    "    p_4_win +\n",
    "    p_5_win +\n",
    "    p_6_win +\n",
    "    p_8_win +\n",
    "    p_9_win +\n",
    "    p_10_win\n",
    ")"
   ]
  },
  {
   "cell_type": "code",
   "execution_count": 9,
   "id": "5b83687e",
   "metadata": {},
   "outputs": [
    {
     "name": "stdout",
     "output_type": "stream",
     "text": [
      "0.492929292929293\n"
     ]
    }
   ],
   "source": [
    "print(p_total_win)"
   ]
  },
  {
   "cell_type": "code",
   "execution_count": null,
   "id": "cc525bf4",
   "metadata": {},
   "outputs": [],
   "source": []
  },
  {
   "cell_type": "code",
   "execution_count": null,
   "id": "9a06bffe",
   "metadata": {},
   "outputs": [],
   "source": []
  },
  {
   "cell_type": "code",
   "execution_count": null,
   "id": "57ec27c5",
   "metadata": {},
   "outputs": [],
   "source": []
  },
  {
   "cell_type": "code",
   "execution_count": null,
   "id": "aeae701d",
   "metadata": {},
   "outputs": [],
   "source": []
  }
 ],
 "metadata": {
  "kernelspec": {
   "display_name": "Python 3",
   "language": "python",
   "name": "python3"
  },
  "language_info": {
   "codemirror_mode": {
    "name": "ipython",
    "version": 3
   },
   "file_extension": ".py",
   "mimetype": "text/x-python",
   "name": "python",
   "nbconvert_exporter": "python",
   "pygments_lexer": "ipython3",
   "version": "3.6.13"
  }
 },
 "nbformat": 4,
 "nbformat_minor": 5
}
