{
 "cells": [
  {
   "cell_type": "code",
   "execution_count": 1,
   "id": "ddc10d38",
   "metadata": {},
   "outputs": [],
   "source": [
    "## Simulation of Successive Wins"
   ]
  },
  {
   "cell_type": "code",
   "execution_count": 2,
   "id": "758b4068",
   "metadata": {},
   "outputs": [],
   "source": [
    "import random"
   ]
  },
  {
   "cell_type": "code",
   "execution_count": 3,
   "id": "0e7fa935",
   "metadata": {},
   "outputs": [],
   "source": [
    "p_father = 0.8 ## probability of beating father\n",
    "p_champ  = 0.4 ## probability of beating the champ\n",
    "n_iterations = 1000000"
   ]
  },
  {
   "cell_type": "code",
   "execution_count": 4,
   "id": "7afee5e2",
   "metadata": {},
   "outputs": [],
   "source": [
    "def playmatch(prob_a, prob_b):\n",
    "    match_a = random.random() < prob_a\n",
    "    match_b = random.random() < prob_b\n",
    "    match_c = random.random() < prob_a\n",
    "    \n",
    "    if match_b == False:\n",
    "        return 0\n",
    "    \n",
    "    else:\n",
    "        if match_a == True or match_b == True:\n",
    "            return 1\n",
    "        else:\n",
    "            return 0"
   ]
  },
  {
   "cell_type": "code",
   "execution_count": 5,
   "id": "20004e31",
   "metadata": {},
   "outputs": [
    {
     "name": "stdout",
     "output_type": "stream",
     "text": [
      "FCF win frac 0.399596 (399596/1000000)\n",
      "CFC win frac 0.799962 (799962/1000000)\n"
     ]
    }
   ],
   "source": [
    "n_wins_fcf = 0\n",
    "n_wins_cfc = 0\n",
    "for i in range(n_iterations):\n",
    "    n_wins_fcf += playmatch(p_father, p_champ)\n",
    "    n_wins_cfc += playmatch(p_champ, p_father)\n",
    "    \n",
    "frac_wins_fcf = n_wins_fcf / n_iterations\n",
    "frac_wins_cfc = n_wins_cfc / n_iterations\n",
    "\n",
    "print(f\"FCF win frac {frac_wins_fcf} ({n_wins_fcf}/{n_iterations})\")\n",
    "print(f\"CFC win frac {frac_wins_cfc} ({n_wins_cfc}/{n_iterations})\")"
   ]
  },
  {
   "cell_type": "code",
   "execution_count": null,
   "id": "b985e9be",
   "metadata": {},
   "outputs": [],
   "source": []
  }
 ],
 "metadata": {
  "kernelspec": {
   "display_name": "Python 3",
   "language": "python",
   "name": "python3"
  },
  "language_info": {
   "codemirror_mode": {
    "name": "ipython",
    "version": 3
   },
   "file_extension": ".py",
   "mimetype": "text/x-python",
   "name": "python",
   "nbconvert_exporter": "python",
   "pygments_lexer": "ipython3",
   "version": "3.6.13"
  }
 },
 "nbformat": 4,
 "nbformat_minor": 5
}
